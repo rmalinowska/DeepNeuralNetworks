{
  "cells": [
    {
      "cell_type": "markdown",
      "metadata": {
        "id": "91a0c19f"
      },
      "source": [
        "# Bigger, Better, Faster or Rainbow DQN v2\n",
        "### by: Mateusz Doliński, Mateusz Olko\n",
        "### special thanks for the inspiration: Michał Nauman\n",
        "\n",
        "In this homework we will expand upon on the Deep Q-Network (DQN) algorithm [(Mnih 2014)](https://www.cs.toronto.edu/~vmnih/docs/dqn.pdf). DQN has been successfully applied to a wide range of environments and has demonstrated strong performance on many tasks. However, several challenges and limitations to the DQN that have been identified in the literature:\n",
        "\n",
        "1. Sample complexity - DQN can require a large number of samples to learn effectively, especially in environments with high-dimensional state spaces or a large number of possible actions\n",
        "2. Convergence - DQN is known to converge to the optimal solution under certain conditions, but the convergence properties of the algorithm are not well understood and it is not guaranteed to converge in all cases\n",
        "3. Overestimation - DQN is known to sometimes overestimate the Q-values of certain actions, which can lead to suboptimal behavior\n",
        "4. Sensitivity to hyperparameters - DQN can be sensitive to the choice of hyperparameters, such as the learning rate, the discount factor, and the exploration scheme.\n",
        "\n",
        "Last year the task was to implement the rainbow algorithm [(Hessel 2017)](https://arxiv.org/pdf/1710.02298.pdf). The algorithm is a combination of several techniques for improving the performance of the DQN algorithm, which was originally proposed by DeepMind. Rainbow algorithm is able to improve the sample efficiency, stability and  performance of the DQN algorithm. The improvements include u.a.:\n",
        "\n",
        "1. Double DQN\n",
        "2. N-step Q-value estimation\n",
        "3. Noisy Layer exploration\n",
        "4. Dueling DQN\n",
        "5. Prioritized experience replay\n",
        "\n",
        "Reinforcement Learning is still a new branch of research and paradigms tend to raise and fall quite frequently. In this case, the recent literature proved that the last 3 improvementx of rainbow DQN are not as good as advertised. In their place [(Schwarzer et al. 2023)](https://arxiv.org/pdf/2305.19452.pdf) introduced other improvements that add up to the new Bigger, Better, Faster (BBF) algorithm.\n",
        "\n",
        "In this homework, you will augment a baseline DQN implementation with components of BBF except for distributional Q-learning. To test our implementations, we will use the Lunar Lander environment with a budget of 40000 enironment steps and 30000 Q-network weight updates. You will also implement the evaluation as in [(Agarwal et al. 2022)](https://arxiv.org/pdf/2108.13264.pdf).\n",
        "\n",
        "## Homework scenario and grading\n",
        "\n",
        "You are provided with a baseline implementation of the DQN. Your job is to expand it with the following modules:\n",
        "\n",
        "1. N-step Q-value estimation with horizon annealing **2 points**\n",
        "2. Discount annealing **1 point**\n",
        "3. Q-network resets **2 points**\n",
        "4. BBF **2 points**\n",
        "5. IQM evaluation **3 points**"
      ],
      "id": "91a0c19f"
    },
    {
      "cell_type": "code",
      "execution_count": 1,
      "metadata": {
        "colab": {
          "base_uri": "https://localhost:8080/"
        },
        "id": "Z_2HKKYIdygC",
        "outputId": "ed6d981f-770a-4bef-b6ec-ca783a573a21"
      },
      "outputs": [
        {
          "output_type": "stream",
          "name": "stdout",
          "text": [
            "Requirement already satisfied: swig in /usr/local/lib/python3.10/dist-packages (4.2.0)\n",
            "Requirement already satisfied: typeguard==2.13.3 in /usr/local/lib/python3.10/dist-packages (2.13.3)\n",
            "Requirement already satisfied: torchtyping in /usr/local/lib/python3.10/dist-packages (0.1.4)\n",
            "Requirement already satisfied: torch>=1.7.0 in /usr/local/lib/python3.10/dist-packages (from torchtyping) (2.1.0+cu121)\n",
            "Requirement already satisfied: typeguard>=2.11.1 in /usr/local/lib/python3.10/dist-packages (from torchtyping) (2.13.3)\n",
            "Requirement already satisfied: filelock in /usr/local/lib/python3.10/dist-packages (from torch>=1.7.0->torchtyping) (3.13.1)\n",
            "Requirement already satisfied: typing-extensions in /usr/local/lib/python3.10/dist-packages (from torch>=1.7.0->torchtyping) (4.5.0)\n",
            "Requirement already satisfied: sympy in /usr/local/lib/python3.10/dist-packages (from torch>=1.7.0->torchtyping) (1.12)\n",
            "Requirement already satisfied: networkx in /usr/local/lib/python3.10/dist-packages (from torch>=1.7.0->torchtyping) (3.2.1)\n",
            "Requirement already satisfied: jinja2 in /usr/local/lib/python3.10/dist-packages (from torch>=1.7.0->torchtyping) (3.1.3)\n",
            "Requirement already satisfied: fsspec in /usr/local/lib/python3.10/dist-packages (from torch>=1.7.0->torchtyping) (2023.6.0)\n",
            "Requirement already satisfied: triton==2.1.0 in /usr/local/lib/python3.10/dist-packages (from torch>=1.7.0->torchtyping) (2.1.0)\n",
            "Requirement already satisfied: MarkupSafe>=2.0 in /usr/local/lib/python3.10/dist-packages (from jinja2->torch>=1.7.0->torchtyping) (2.1.4)\n",
            "Requirement already satisfied: mpmath>=0.19 in /usr/local/lib/python3.10/dist-packages (from sympy->torch>=1.7.0->torchtyping) (1.3.0)\n"
          ]
        }
      ],
      "source": [
        "! pip install swig\n",
        "! pip install gymnasium[box2d]>=0.29.0\n",
        "! pip install typeguard==2.13.3\n",
        "! pip install torchtyping"
      ],
      "id": "Z_2HKKYIdygC"
    },
    {
      "cell_type": "code",
      "execution_count": 2,
      "metadata": {
        "id": "d0728d82"
      },
      "outputs": [],
      "source": [
        "import time\n",
        "import random\n",
        "from collections import deque\n",
        "from dataclasses import dataclass, field\n",
        "from functools import cached_property\n",
        "from typing import Any, Callable\n",
        "\n",
        "import gymnasium as gym\n",
        "import matplotlib\n",
        "import matplotlib.pyplot as plt\n",
        "import numpy as np\n",
        "import pandas as pd\n",
        "import torch\n",
        "import torch.nn as nn\n",
        "import torch.optim as optim\n",
        "from torchtyping import TensorType"
      ],
      "id": "d0728d82"
    },
    {
      "cell_type": "markdown",
      "metadata": {
        "id": "094e4c1f"
      },
      "source": [
        "You are given a simple class for holding the hyperparameters (do not change those!) and a helper functions for setting seeds and orthogonal weight initialization."
      ],
      "id": "094e4c1f"
    },
    {
      "cell_type": "code",
      "execution_count": 3,
      "metadata": {
        "id": "e1883162"
      },
      "outputs": [],
      "source": [
        "# do NOT change!\n",
        "@dataclass(frozen=True)\n",
        "class Hyperparameters:\n",
        "    capacity: int = 10000\n",
        "    init_steps: int = 10000\n",
        "    total_timesteps = 40000\n",
        "    batch_size: int = 128\n",
        "    hidden_dim: int = 128\n",
        "    optimizer_params: dict[str, Any] = field(\n",
        "        default_factory=lambda: {\n",
        "            \"lr\": 7e-4,\n",
        "            \"eps\": 1e-5,\n",
        "            \"weight_decay\": 1e-3,\n",
        "        }\n",
        "    )\n",
        "    samples: int = 3\n",
        "    target_update_freq: int = 50\n",
        "    evaluate_freq: int = 1000\n",
        "    evaluate_samples: int = 5\n",
        "\n",
        "    anneal_steps: int = 30000\n",
        "\n",
        "    init_discount: float = 0.8\n",
        "    final_discount: float = 0.99\n",
        "\n",
        "    init_epsilon: float = 0.1\n",
        "    final_epsilon: float = 0.05\n",
        "\n",
        "    init_nstep: int = 10\n",
        "    final_nstep: int = 3\n",
        "    anneal_nstep_freq: int = 2000\n",
        "\n",
        "    reset_freq: int = 30100\n",
        "    replay_ratio: int = 2\n",
        "\n",
        "    gym_id: str = \"LunarLander-v2\"\n",
        "    cuda: bool = True\n",
        "\n",
        "    @cached_property\n",
        "    def state_dim(self) -> int:\n",
        "        env = gym.make(self.gym_id)\n",
        "        return env.observation_space.shape[0]\n",
        "\n",
        "    @cached_property\n",
        "    def action_dim(self) -> int:\n",
        "        env = gym.make(self.gym_id)\n",
        "        return env.action_space.n\n",
        "\n",
        "    @cached_property\n",
        "    def device(self) -> torch.device:\n",
        "        return torch.device(\"cuda\" if torch.cuda.is_available() and self.cuda else \"cpu\")\n",
        "\n",
        "\n",
        "hyperparameters = Hyperparameters()"
      ],
      "id": "e1883162"
    },
    {
      "cell_type": "code",
      "execution_count": 4,
      "metadata": {
        "id": "97603d29"
      },
      "outputs": [],
      "source": [
        "def set_seed_everywhere(\n",
        "    env: gym.wrappers.time_limit.TimeLimit,\n",
        "    seed: int,\n",
        ") -> None:\n",
        "    torch.manual_seed(seed)\n",
        "    if torch.cuda.is_available():\n",
        "        torch.cuda.manual_seed_all(seed)\n",
        "    np.random.seed(seed)\n",
        "    env.reset(seed=seed)\n",
        "\n",
        "\n",
        "def weight_init(model: nn.Module) -> None:\n",
        "    if isinstance(model, nn.Linear):\n",
        "        nn.init.orthogonal_(model.weight.data)\n",
        "        model.bias.data.fill_(0.0)"
      ],
      "id": "97603d29"
    },
    {
      "cell_type": "markdown",
      "metadata": {
        "id": "32176d86"
      },
      "source": [
        "## 0. Baseline DQN"
      ],
      "id": "32176d86"
    },
    {
      "cell_type": "markdown",
      "metadata": {
        "id": "8ed14f18"
      },
      "source": [
        "Deep Q-Network (DQN) [(Mnih 2014)](https://www.cs.toronto.edu/~vmnih/docs/dqn.pdf) is a reinforcement learning algorithm that uses a deep neural network to learn a Q-function, which is a function that estimates the expected return for taking a given action in a given state. The goal of the DQN algorithm is to learn a policy that maximizes the expected return by learning the Q-function and selecting the action with the highest estimated return in each state.\n",
        "\n",
        "The DQN algorithm consists of two main components: a Q-network and an experience buffer. The Q-network is a deep neural network that takes in a state as input and outputs the estimated Q-values for each possible action. The experience buffer is a data structure that stores a set of experiences. The DQN algorithm works by interacting with the environment and storing the experiences in the experience buffer. The Q-network is then trained using a mini-batch of experiences uniformly sampled from the experience buffer. This process is known as experience replay and is used to decorrelate the experiences and to stabilize the learning process. The Q-network is updated using the loss function:\n",
        "\n",
        "$$\n",
        "\\mathcal{L}_{\\theta} = \\frac{1}{B} \\sum_{i=1}^{B} \\bigl( \\mathrm{TD}~(s_i, a_i, s^{'}_{i}) \\bigr)^{2}\n",
        "$$\n",
        "\n",
        "With:\n",
        "\n",
        "$$\n",
        "\\mathrm{TD}~(s_i, a_i, s^{'}_{i}) = Q_{\\theta}~(s_i,a_i) - \\bigl(r_{(s_i,a_i,s_{i}^{'})} + \\gamma ~ \\underset{a^{'}_{i} \\sim \\bar{Q}_{\\theta}}{\\mathrm{max}} ~ \\bar{Q}_{\\theta}~(s_{i}^{'},a_{i}^{'}) \\bigr)\n",
        "$$\n",
        "\n",
        "Where $Q_{\\theta}$ and $\\bar{Q}_{\\theta}$ denote learned and target Q-networks respectively. The target network is a copy of the Q-network that is updated less frequently, and using it to compute the target Q-values helps to stabilize the learning process and improve the performance of the DQN algorithm. Note that to increase stability of training we use Huber loss (smooth_l1_loss) instead of L2.\n",
        "\n",
        "There are several ways to incorporate exploration into the DQN algorithm. One common method is to use an $\\epsilon$-greedy exploration strategy, where the agent takes a random action with probability $\\epsilon$ and takes the action with the highest estimated Q-value with probability $1 - \\epsilon$. The value of $\\epsilon$ is typically decreased over time, so that the agent initially explores more and then gradually shifts towards exploitation as it learns more about the environment.\n",
        "\n",
        "Below, you will find the implementaiton of all the components of a basic DQN:\n",
        "\n",
        "**Experience buffer** - a data structure that stores a set of transitions, where a transition is typically represented as a tuple $(s, a, r, s', t)$, where $s$ is the state, $a$ is the action taken in state $s$, $r$ is the reward received by performing $a$ in $s$ and getting to $s'$, $s'$ is the new state observed after performing $a$ in $s$ and $t$ is the termination boolean (true if $s'$ is terminal). The **ExperienceBuffer** class below is using NumPy arrays has two methods:\n",
        "\n",
        "1. *add* - adds transition to the buffer\n",
        "2. *sample* - samples a batch of transitions from the buffer"
      ],
      "id": "8ed14f18"
    },
    {
      "cell_type": "code",
      "execution_count": 5,
      "metadata": {
        "id": "53e147c5"
      },
      "outputs": [],
      "source": [
        "class ExperienceBuffer:\n",
        "    def __init__(\n",
        "        self,\n",
        "        hyperparameters: Hyperparameters,\n",
        "    ) -> None:\n",
        "        self.states = np.zeros((hyperparameters.capacity, hyperparameters.state_dim), dtype=np.float32)\n",
        "        self.actions = np.zeros((hyperparameters.capacity, 1), dtype=np.int64)\n",
        "        self.rewards = np.zeros((hyperparameters.capacity, 1), dtype=np.float32)\n",
        "        self.next_states = np.zeros((hyperparameters.capacity, hyperparameters.state_dim), dtype=np.float32)\n",
        "        self.terminals = np.zeros((hyperparameters.capacity, 1), dtype=np.int64)\n",
        "        self.full = False\n",
        "        self.idx = 0\n",
        "        self.hyperparameters = hyperparameters\n",
        "\n",
        "    def add(\n",
        "        self,\n",
        "        state: np.ndarray,\n",
        "        action: int,\n",
        "        reward: float,\n",
        "        next_state: np.ndarray,\n",
        "        terminal: bool,\n",
        "    ) -> None:\n",
        "        self.states[self.idx, :] = state\n",
        "        self.actions[self.idx, :] = action\n",
        "        self.rewards[self.idx, :] = reward\n",
        "        self.next_states[self.idx, :] = next_state\n",
        "        self.terminals[self.idx, :] = 1 if terminal else 0\n",
        "        self.idx += 1\n",
        "        if self.idx == self.hyperparameters.capacity:\n",
        "            self.full = True\n",
        "            self.idx = 0\n",
        "\n",
        "    def sample(\n",
        "        self,\n",
        "    ) -> tuple[\n",
        "        TensorType[\"batch\", \"state_dim\"],\n",
        "        TensorType[\"batch\", 1],\n",
        "        TensorType[\"batch\", 1],\n",
        "        TensorType[\"batch\", \"state_dim\"],\n",
        "        TensorType[\"batch\", 1],\n",
        "    ]:\n",
        "        idx = (\n",
        "            np.random.permutation(self.hyperparameters.capacity)[: self.hyperparameters.batch_size]\n",
        "            if self.full\n",
        "            else np.random.permutation(self.idx - 1)[: self.hyperparameters.batch_size]\n",
        "        )\n",
        "        states = torch.from_numpy(self.states[idx]).to(self.hyperparameters.device)\n",
        "        actions = torch.from_numpy(self.actions[idx]).to(self.hyperparameters.device)\n",
        "        rewards = torch.from_numpy(self.rewards[idx]).to(self.hyperparameters.device)\n",
        "        next_states = torch.from_numpy(self.next_states[idx]).to(self.hyperparameters.device)\n",
        "        terminals = torch.from_numpy(self.terminals[idx]).long().to(self.hyperparameters.device)\n",
        "        return states, actions, rewards, next_states, terminals\n"
      ],
      "id": "53e147c5"
    },
    {
      "cell_type": "markdown",
      "metadata": {
        "id": "9fdcd965"
      },
      "source": [
        "**QNetwork** - a simple dense MLP. Note the output size being equal to the amount of actions in the environment."
      ],
      "id": "9fdcd965"
    },
    {
      "cell_type": "code",
      "execution_count": 6,
      "metadata": {
        "id": "e3fb7c14"
      },
      "outputs": [],
      "source": [
        "class QNetwork(nn.Module):\n",
        "    def __init__(\n",
        "            self,\n",
        "            hyperparameters: Hyperparameters,\n",
        "        ) -> None:\n",
        "        super().__init__()\n",
        "        self.layers = nn.Sequential(\n",
        "            nn.Linear(hyperparameters.state_dim, hyperparameters.hidden_dim),\n",
        "            nn.ReLU(),\n",
        "            nn.Linear(hyperparameters.hidden_dim, hyperparameters.hidden_dim),\n",
        "            nn.ReLU(),\n",
        "            nn.Linear(hyperparameters.hidden_dim, hyperparameters.action_dim),\n",
        "        )\n",
        "        self.apply(weight_init)\n",
        "\n",
        "    def forward(\n",
        "            self,\n",
        "            x: TensorType[\"batch\", \"state_dim\"],\n",
        "        ) -> TensorType[\"batch\", \"actions_dim\"]:\n",
        "        return self.layers(x)"
      ],
      "id": "e3fb7c14"
    },
    {
      "cell_type": "markdown",
      "metadata": {
        "id": "03ed7a71"
      },
      "source": [
        "**DQN agent** - implementation of the callbacks required to learn the DQN algorithm. The class has following methods:\n",
        "\n",
        "1. *get_action* - returns action in given state using $\\epsilon$-greedy\n",
        "2. *anneal* - reduces the value of $\\epsilon$ dependent on the training step\n",
        "3. *update* - samples a batch of transitions from the experience buffer and performs a DQN update\n",
        "4. *update_target* - performs a hard update on the target Q network $\\bar{Q}_{\\theta}$\n",
        "5. *evaluate* - performs evaluation of the agent with a greedy policy\n",
        "6. *reset* - resets the agent (used between seeds)"
      ],
      "id": "03ed7a71"
    },
    {
      "cell_type": "code",
      "execution_count": 7,
      "metadata": {
        "id": "28b71037"
      },
      "outputs": [],
      "source": [
        "class DQNBaseline:\n",
        "    def __init__(\n",
        "        self,\n",
        "        hyperparameters: Hyperparameters,\n",
        "    ) -> None:\n",
        "        self.hyperparameters = hyperparameters\n",
        "        self.buffer = ExperienceBuffer(self.hyperparameters)\n",
        "        self.q_net = QNetwork(self.hyperparameters).to(self.hyperparameters.device)\n",
        "        self.q_target = QNetwork(self.hyperparameters).to(self.hyperparameters.device)\n",
        "        self.q_target.load_state_dict(self.q_net.state_dict())\n",
        "        self.optimizer = optim.Adam(self.q_net.parameters(), **self.hyperparameters.optimizer_params)\n",
        "\n",
        "        self.epsilon = self.hyperparameters.init_epsilon\n",
        "        self.discount = self.hyperparameters.final_discount\n",
        "\n",
        "    def reset(self) -> None:\n",
        "        self.buffer = ExperienceBuffer(self.hyperparameters)\n",
        "        self.epsilon = self.hyperparameters.init_epsilon\n",
        "        self.q_net = QNetwork(self.hyperparameters).to(self.hyperparameters.device)\n",
        "        self.q_target = QNetwork(self.hyperparameters).to(self.hyperparameters.device)\n",
        "        self.q_target.load_state_dict(self.q_net.state_dict())\n",
        "        self.optimizer = optim.Adam(self.q_net.parameters(), **self.hyperparameters.optimizer_params)\n",
        "\n",
        "    def get_action(\n",
        "        self,\n",
        "        state: np.ndarray,\n",
        "        exploration: bool = True,\n",
        "    ) -> int:\n",
        "        with torch.no_grad():\n",
        "            return (\n",
        "                np.random.randint(self.hyperparameters.action_dim)\n",
        "                if np.random.sample() < self.epsilon and exploration\n",
        "                else torch.argmax(self.q_net(state)).item()\n",
        "            )\n",
        "\n",
        "    def anneal(\n",
        "        self,\n",
        "        step: int,\n",
        "    ) -> None:\n",
        "        self.epsilon = (\n",
        "            ((self.hyperparameters.final_epsilon - self.hyperparameters.init_epsilon) / self.hyperparameters.anneal_steps) * step\n",
        "            + self.hyperparameters.init_epsilon\n",
        "            if step < self.hyperparameters.anneal_steps\n",
        "            else self.epsilon\n",
        "        )\n",
        "\n",
        "    def update(self) -> None:\n",
        "        states, actions, rewards, next_states, terminals = self.buffer.sample()\n",
        "        with torch.no_grad():\n",
        "            q_ns = torch.max(self.q_target(next_states), dim=1)[0].unsqueeze(1)\n",
        "        q_targets = rewards + (1 - terminals) * self.discount * q_ns\n",
        "\n",
        "        self.optimizer.zero_grad()\n",
        "        q_values = self.q_net(states).gather(1, actions)\n",
        "        loss = nn.functional.smooth_l1_loss(q_values, q_targets)\n",
        "        loss.backward()\n",
        "        self.optimizer.step()\n",
        "\n",
        "    def update_target(self) -> None:\n",
        "        self.q_target.load_state_dict(self.q_net.state_dict())\n",
        "\n",
        "    def evaluate(\n",
        "        self,\n",
        "        samples: int,\n",
        "    ) -> np.ndarray:\n",
        "        with torch.no_grad():\n",
        "            env_test = gym.make(self.hyperparameters.gym_id, max_episode_steps=1000)\n",
        "            eval_rewards = np.zeros((samples,))\n",
        "            for i in range(samples):\n",
        "                state, _ = env_test.reset()\n",
        "                episode_reward = 0\n",
        "                while True:\n",
        "                    action = self.get_action(torch.tensor(state).unsqueeze(0).to(self.hyperparameters.device), False)\n",
        "                    next_state, reward, terminal, truncated, _ = env_test.step(action)\n",
        "                    episode_reward += reward\n",
        "                    state = next_state\n",
        "                    if terminal or truncated:\n",
        "                        # eval_reward += episode_reward / samples\n",
        "                        eval_rewards[i] = episode_reward\n",
        "                        break\n",
        "        return eval_rewards\n"
      ],
      "id": "28b71037"
    },
    {
      "cell_type": "markdown",
      "metadata": {
        "id": "f539a644"
      },
      "source": [
        "Finally, you are presented with the training loop for the DQN agents (do NOT change this):"
      ],
      "id": "f539a644"
    },
    {
      "cell_type": "code",
      "execution_count": 8,
      "metadata": {
        "id": "385a9330"
      },
      "outputs": [],
      "source": [
        "def train_agent(\n",
        "    hyperparameters: Hyperparameters,\n",
        "    agent: DQNBaseline,\n",
        ") -> np.ndarray:\n",
        "    results = np.zeros(\n",
        "        (\n",
        "            hyperparameters.total_timesteps // hyperparameters.evaluate_freq,\n",
        "            hyperparameters.samples,\n",
        "            hyperparameters.evaluate_samples\n",
        "        )\n",
        "    )\n",
        "    for seed_idx, seed in enumerate(range(hyperparameters.samples)):\n",
        "        env = gym.make(hyperparameters.gym_id, max_episode_steps=1000)\n",
        "        agent.reset()\n",
        "        set_seed_everywhere(env, seed)\n",
        "        state, _ = env.reset()\n",
        "        for step in range(hyperparameters.total_timesteps):\n",
        "            if step == hyperparameters.init_steps:\n",
        "                start_time = time.time()\n",
        "            action = agent.get_action(\n",
        "                torch.tensor(state).unsqueeze(0).to(hyperparameters.device)\n",
        "            )\n",
        "            next_state, reward, terminal, truncated, _ = env.step(action)\n",
        "            agent.buffer.add(state, action, reward, next_state, terminal or truncated)\n",
        "            agent.anneal(step)\n",
        "            state = next_state\n",
        "            if step >= hyperparameters.init_steps:\n",
        "                for update_num in range(hyperparameters.replay_ratio):\n",
        "                    agent.update()\n",
        "                    if (\n",
        "                        step * hyperparameters.replay_ratio + update_num + 1\n",
        "                    ) % hyperparameters.target_update_freq == 0:\n",
        "                        agent.update_target()\n",
        "                if (step + 1) % hyperparameters.evaluate_freq == 0:\n",
        "                    eval_rewards = agent.evaluate(hyperparameters.evaluate_samples)\n",
        "                    results[step // hyperparameters.evaluate_freq, seed] = eval_rewards\n",
        "                    print(\n",
        "                        \"\\rSample number: {} Step: {} Evaluation reward: {:.2f} Samples per second: {:}\".format(\n",
        "                            seed_idx + 1,\n",
        "                            step,\n",
        "                            eval_rewards.mean(),\n",
        "                            int(\n",
        "                                (step - hyperparameters.init_steps)\n",
        "                                / (time.time() - start_time)\n",
        "                            ),\n",
        "                        ),\n",
        "                        end=\"\",\n",
        "                    )\n",
        "            if terminal or truncated:\n",
        "                state, _ = env.reset()\n",
        "                episode_reward = 0\n",
        "    return results"
      ],
      "id": "385a9330"
    },
    {
      "cell_type": "markdown",
      "metadata": {
        "id": "ff186311"
      },
      "source": [
        "The training of the baseline DQN agent is implemented in the cell below:"
      ],
      "id": "ff186311"
    },
    {
      "cell_type": "code",
      "execution_count": 9,
      "metadata": {
        "colab": {
          "base_uri": "https://localhost:8080/"
        },
        "id": "938d29b1",
        "outputId": "c5d78530-d207-44c1-ef06-37750c58f664"
      },
      "outputs": [
        {
          "output_type": "stream",
          "name": "stdout",
          "text": [
            "Sample number: 3 Step: 39999 Evaluation reward: -98.87 Samples per second: 167"
          ]
        },
        {
          "output_type": "execute_result",
          "data": {
            "text/plain": [
              "-63.1047844257821"
            ]
          },
          "metadata": {},
          "execution_count": 9
        }
      ],
      "source": [
        "results_dict = {}\n",
        "agent = DQNBaseline(hyperparameters)\n",
        "results_dqn = train_agent(hyperparameters, agent)\n",
        "results_dict[\"DQNBaseline\"] = results_dqn\n",
        "results_dqn.mean(1)[10:].mean()"
      ],
      "id": "938d29b1"
    },
    {
      "cell_type": "markdown",
      "metadata": {
        "id": "3376e3e2"
      },
      "source": [
        "Below the proper task begins:"
      ],
      "id": "3376e3e2"
    },
    {
      "cell_type": "markdown",
      "metadata": {
        "id": "004bf3a3"
      },
      "source": [
        "## 1. N-step Q-value estimation with horizon annealing\n",
        "\n",
        "$N$-step TD ($\\mathrm{TD}_{n}$) was introduced long before neural network based RL. In regular TD, we supervise the Q-network with single-step reward summed with highest Q-value of the next state. In contrast to that, $\\mathrm{TD}_{n}$ accumulated rewards over $n$ steps and sums it with the highest Q-value of the state that occured after $n$ steps [(Sutton 1988)](http://incompleteideas.net/papers/sutton-88-with-erratum.pdf). Double DQN $\\mathrm{TD}_{n}$ loss is defined by:\n",
        "\n",
        "$$\n",
        "\\mathrm{TD}_{n}(s_i, a_i, s^{'}_{i+n}) = Q_{\\theta}~(s_i,a_i) - \\biggl(\\sum_{k=0}^{n-1} \\gamma^{k} ~ r_{(s_{i+k},a_{i+k},s_{i+k}^{'})} + \\gamma^{n} \\underset{a^{'}_{i+n}}{\\mathrm{max}} ~ \\bar{Q}_{\\theta}~(s_{i+n}^{'},a_{i+n}^{'}) \\biggr)\n",
        "$$\n",
        "\n",
        "The horizon hyperparameter (n) is going to be annealed from the `hyperparameters.init_nstep` to `hyperparameters.final_nstep`."
      ],
      "id": "004bf3a3"
    },
    {
      "cell_type": "markdown",
      "metadata": {
        "id": "f448764d"
      },
      "source": [
        "### 1.1 Implement NStepExperienceBuffer\n",
        "\n",
        "Implementing $\\mathrm{TD}_{n}$ requires changes to the ExperienceBuffer class. We will implement those changes using the **deque** module. This module will store $n$ of the most recent transitions, and will act as a middleware between agent and buffers main storage. As compared to single step reward and $s_{i}^{'}$ stored by the simple ExperienceBuffer, the main storage of this upgraded buffer should store $n$ step rewards and $s_{i+n}^{'}$.\n"
      ],
      "id": "f448764d"
    },
    {
      "cell_type": "code",
      "execution_count": 10,
      "metadata": {
        "id": "12560df7"
      },
      "outputs": [],
      "source": [
        "class NStepExperienceBuffer(ExperienceBuffer):\n",
        "    def __init__(\n",
        "            self,\n",
        "            hyperparameters: Hyperparameters,\n",
        "        ) -> None:\n",
        "        super().__init__(hyperparameters)\n",
        "        self.memories = deque(maxlen=self.hyperparameters.init_nstep)\n",
        "        self.nstep = self.hyperparameters.init_nstep\n",
        "        self.discount = self.hyperparameters.final_discount\n",
        "\n",
        "    def set_nstep(\n",
        "            self,\n",
        "            value: int\n",
        "        ) -> None:\n",
        "        ############### TODO ###############\n",
        "        self.nstep = value\n",
        "        ####################################\n",
        "\n",
        "    def get_nstep(self) -> tuple[np.ndarray, int, float, np.ndarray, bool]:\n",
        "        ############### TODO ###############\n",
        "        current_memories = []\n",
        "        start_idx = 0\n",
        "        for i in range(len(self.memories)):\n",
        "            memory = self.memories[i]\n",
        "            if memory[-1] == True:\n",
        "                if len(current_memories) == (self.nstep - 1):\n",
        "                    current_memories.append(memory)\n",
        "                    break\n",
        "                else:\n",
        "                    start_idx = i+1\n",
        "                    current_memories = []\n",
        "            else:\n",
        "                current_memories.append(memory)\n",
        "                if len(current_memories) == self.nstep:\n",
        "                    break\n",
        "\n",
        "        if len(current_memories) == self.nstep:\n",
        "            for _ in range(start_idx + 1):\n",
        "                self.memories.popleft()\n",
        "\n",
        "            state = current_memories[0][0]\n",
        "\n",
        "            action = current_memories[0][1]\n",
        "\n",
        "            discounts = np.power(np.full(self.nstep, self.discount), np.arange(self.nstep))\n",
        "            reward =  np.sum(discounts * np.array([memory[2] for memory in current_memories]))\n",
        "\n",
        "            next_state = current_memories[self.nstep - 1][-2]\n",
        "            terminal = current_memories[self.nstep -1][-1]\n",
        "\n",
        "            ####################################\n",
        "            return state, action, reward, next_state, terminal\n",
        "\n",
        "    def add(\n",
        "        self,\n",
        "        state: np.ndarray,\n",
        "        action: int,\n",
        "        reward: float,\n",
        "        next_state: np.ndarray,\n",
        "        terminal: bool,\n",
        "    ) -> None:\n",
        "        terminal_ = 1 if terminal else 0\n",
        "        memory = (state, action, reward, next_state, terminal_)\n",
        "        self.memories.append(memory)\n",
        "        if len(self.memories) >= self.nstep:\n",
        "            ############### TODO ###############\n",
        "            transition = self.get_nstep()\n",
        "            if transition is not None:\n",
        "                state, action, reward, next_state, terminal = transition\n",
        "                self.states[self.idx, :] = state\n",
        "                self.actions[self.idx, :] = action\n",
        "                self.rewards[self.idx, :] = reward\n",
        "                self.next_states[self.idx, :] = next_state\n",
        "                self.terminals[self.idx, :] = 1 if terminal else 0\n",
        "                ####################################\n",
        "                self.idx += 1\n",
        "                if self.idx == self.hyperparameters.capacity:\n",
        "                    self.full = True\n",
        "                    self.idx = 0"
      ],
      "id": "12560df7"
    },
    {
      "cell_type": "markdown",
      "metadata": {
        "id": "34d45601"
      },
      "source": [
        "### 1.2: Implement and train N-step annealing DQN\n",
        "Implement **NStepAnnealing** by including the annealing step. It should decrease from the **hyperparameters.init_nstep** value to the **hyperparameters.final_nstep** value by 1 every **hyperparameters.anneal_nstep_freq** steps.\n",
        "\n",
        "Remember to properly set `nstep` parameter in all relevant attributes of the **NStepAnnealing** class!"
      ],
      "id": "34d45601"
    },
    {
      "cell_type": "code",
      "execution_count": 11,
      "metadata": {
        "id": "0d1cb4c6"
      },
      "outputs": [],
      "source": [
        "class NStepAnnealing(DQNBaseline):\n",
        "    def __init__(\n",
        "        self,\n",
        "        hyperparameters: Hyperparameters,\n",
        "    ) -> None:\n",
        "        super().__init__(hyperparameters)\n",
        "        self.nstep = self.hyperparameters.init_nstep\n",
        "        self.buffer = NStepExperienceBuffer(hyperparameters)\n",
        "\n",
        "    def reset(self) -> None:\n",
        "        super().reset()\n",
        "        ############### TODO ###############\n",
        "        self.buffer = NStepExperienceBuffer(self.hyperparameters)\n",
        "        self.nstep = self.hyperparameters.init_nstep\n",
        "        ####################################\n",
        "\n",
        "    def set_nstep(\n",
        "            self,\n",
        "            value: int,\n",
        "        ) -> None:\n",
        "        ############### TODO ###############\n",
        "        self.nstep = value\n",
        "        self.buffer = NStepExperienceBuffer(self.hyperparameters)\n",
        "        self.buffer.set_nstep(value)\n",
        "        ####################################\n",
        "\n",
        "    def anneal(\n",
        "        self,\n",
        "        step: int,\n",
        "    ) -> None:\n",
        "        super().anneal(step=step)\n",
        "        ############### TODO ###############\n",
        "        decreased_value = 0\n",
        "        if (step + 1) % self.hyperparameters.anneal_nstep_freq == 0:\n",
        "            decreased_value = self.nstep - 1\n",
        "            value = max(\n",
        "                self.hyperparameters.final_nstep,\n",
        "                decreased_value\n",
        "            )\n",
        "            self.set_nstep(value=value)\n",
        "        ####################################\n",
        "\n",
        "    def update(self) -> None:\n",
        "        states, actions, rewards, next_states, terminals = self.buffer.sample()\n",
        "        ############### TODO ###############\n",
        "        with torch.no_grad():\n",
        "            q_ns = torch.max(self.q_target(next_states), dim=1)[0].unsqueeze(1)\n",
        "        q_targets = rewards + (1 - terminals) * (self.discount ** self.nstep) * q_ns\n",
        "        ####################################\n",
        "        self.optimizer.zero_grad()\n",
        "        q_values = self.q_net(states).gather(1, actions)\n",
        "        loss = nn.functional.smooth_l1_loss(q_values, q_targets)\n",
        "        loss.backward()\n",
        "        self.optimizer.step()\n"
      ],
      "id": "0d1cb4c6"
    },
    {
      "cell_type": "markdown",
      "metadata": {
        "id": "1a49e8b4"
      },
      "source": [
        "Launch the training of the NStepAnnealing DQN agent and observe difference in results:"
      ],
      "id": "1a49e8b4"
    },
    {
      "cell_type": "code",
      "execution_count": 26,
      "metadata": {
        "colab": {
          "base_uri": "https://localhost:8080/"
        },
        "id": "e27e7900",
        "outputId": "795eff37-3734-4276-abfc-c93c094439aa"
      },
      "outputs": [
        {
          "output_type": "stream",
          "name": "stdout",
          "text": [
            "Sample number: 3 Step: 39999 Evaluation reward: 80.82 Samples per second: 186"
          ]
        },
        {
          "output_type": "execute_result",
          "data": {
            "text/plain": [
              "-66.00911543639191"
            ]
          },
          "metadata": {},
          "execution_count": 26
        }
      ],
      "source": [
        "agent = NStepAnnealing(hyperparameters)\n",
        "results_dqn2 = train_agent(hyperparameters, agent)\n",
        "results_dict[\"NStepAnnealing\"] = results_dqn2\n",
        "results_dqn2.mean(1)[-10:].mean()"
      ],
      "id": "e27e7900"
    },
    {
      "cell_type": "markdown",
      "metadata": {
        "id": "YtM0SoH2c2hb"
      },
      "source": [
        "## 2. Discount annealing\n",
        "\n",
        "Remember that the loss in the baseline DQN is defined as:\n",
        "\n",
        "$$\n",
        "\\mathrm{TD}~(s_i, a_i, s^{'}_{i}) = Q_{\\theta}~(s_i,a_i) - \\bigl(r_{(s_i,a_i,s_{i}^{'})} + \\gamma ~ \\underset{a^{'}_{i} \\sim \\bar{Q}_{\\theta}}{\\mathrm{max}} ~ \\bar{Q}_{\\theta}~(s_{i}^{'},a_{i}^{'}) \\bigr)\n",
        "$$\n",
        "\n",
        "This section includes implmenetation of annealing of the discount $\\gamma$ hyperperameter. It should lineary decrease from the **hyperparameters.init_discount** value to the **hyperparameters.final_discount** value over **anneal_steps** steps."
      ],
      "id": "YtM0SoH2c2hb"
    },
    {
      "cell_type": "code",
      "execution_count": 13,
      "metadata": {
        "id": "Yb19-g1DaCl_"
      },
      "outputs": [],
      "source": [
        "class DiscountAnnealing(DQNBaseline):\n",
        "    def __init__(\n",
        "            self,\n",
        "            hyperparameters: Hyperparameters,\n",
        "        ) -> None:\n",
        "        super().__init__(hyperparameters)\n",
        "        self.discount = self.hyperparameters.init_discount\n",
        "\n",
        "    def reset(self) -> None:\n",
        "        super().reset()\n",
        "        ############### TODO ###############\n",
        "        self.discount = self.hyperparameters.init_discount\n",
        "        ####################################\n",
        "\n",
        "    def set_discount(\n",
        "            self,\n",
        "            value: int,\n",
        "        ) -> None:\n",
        "        ############### TODO ###############\n",
        "        self.discount = value\n",
        "        ####################################\n",
        "\n",
        "    def anneal(\n",
        "        self,\n",
        "        step: int,\n",
        "    ) -> None:\n",
        "        super().anneal(step=step)\n",
        "        ############### TODO ###############\n",
        "        value = (\n",
        "            (\n",
        "                (\n",
        "                    self.hyperparameters.final_discount\n",
        "                    - self.hyperparameters.init_discount\n",
        "                )\n",
        "                / self.hyperparameters.anneal_steps\n",
        "            )\n",
        "            * step\n",
        "            + self.hyperparameters.init_discount\n",
        "            if step < self.hyperparameters.anneal_steps\n",
        "            else self.discount\n",
        "        )\n",
        "        self.set_discount(value=value)\n",
        "        ####################################\n"
      ],
      "id": "Yb19-g1DaCl_"
    },
    {
      "cell_type": "markdown",
      "metadata": {
        "id": "385b0699"
      },
      "source": [
        "Launch the training of the DiscountAnnealing DQN agent and observe difference in results:"
      ],
      "id": "385b0699"
    },
    {
      "cell_type": "code",
      "execution_count": 14,
      "metadata": {
        "colab": {
          "base_uri": "https://localhost:8080/"
        },
        "id": "cVZGXODmhurZ",
        "outputId": "85fa4674-3112-499a-d7a2-dcf831f0973b"
      },
      "outputs": [
        {
          "output_type": "stream",
          "name": "stdout",
          "text": [
            "Sample number: 3 Step: 39999 Evaluation reward: 3.22 Samples per second: 160"
          ]
        },
        {
          "output_type": "execute_result",
          "data": {
            "text/plain": [
              "-48.84720075242377"
            ]
          },
          "metadata": {},
          "execution_count": 14
        }
      ],
      "source": [
        "agent = DiscountAnnealing(hyperparameters)\n",
        "results_dqn3 = train_agent(hyperparameters, agent)\n",
        "results_dict[\"DiscountAnnealing\"] = results_dqn3\n",
        "results_dqn3.mean(1)[-10:].mean()"
      ],
      "id": "cVZGXODmhurZ"
    },
    {
      "cell_type": "markdown",
      "metadata": {
        "id": "66747342"
      },
      "source": [
        "## 3. Q-network resets\n",
        "The q-networks tend to overfit to initial, low quality data and loose plasticity over time. To overcome this problem reinitialize q-networks every `self.reset_freq` updates. Remeber to reset the optimizer parameters too."
      ],
      "id": "66747342"
    },
    {
      "cell_type": "code",
      "execution_count": 15,
      "metadata": {
        "id": "bd35f21d"
      },
      "outputs": [],
      "source": [
        "class Resets(DQNBaseline):\n",
        "    def __init__(\n",
        "            self,\n",
        "            hyperparameters: Hyperparameters,\n",
        "        ) -> None:\n",
        "        super().__init__(hyperparameters)\n",
        "        self.reset_freq = hyperparameters.reset_freq\n",
        "        ############### TODO ###############\n",
        "        self.num_updates = 0\n",
        "        ####################################\n",
        "\n",
        "    def reset(self) -> None:\n",
        "        super().reset()\n",
        "        ############### TODO ###############\n",
        "        self.num_updates = 0\n",
        "        ####################################\n",
        "\n",
        "    def update(self) -> None:\n",
        "        states, actions, rewards, next_states, terminals = self.buffer.sample()\n",
        "        with torch.no_grad():\n",
        "            q_ns = torch.max(self.q_target(next_states), dim=1)[0].unsqueeze(1)\n",
        "        q_targets = rewards + (1 - terminals) * self.discount * q_ns\n",
        "\n",
        "        self.optimizer.zero_grad()\n",
        "        q_values = self.q_net(states).gather(1, actions)\n",
        "        loss = nn.functional.smooth_l1_loss(q_values, q_targets)\n",
        "        loss.backward()\n",
        "        self.optimizer.step()\n",
        "        self.num_updates += 1\n",
        "\n",
        "        ############### TODO ###############\n",
        "        if self.num_updates % self.reset_freq == 0:\n",
        "            self.q_net = QNetwork(self.hyperparameters).to(self.hyperparameters.device)\n",
        "            self.q_target = QNetwork(self.hyperparameters).to(self.hyperparameters.device)\n",
        "            self.q_target.load_state_dict(self.q_net.state_dict())\n",
        "            self.optimizer = optim.Adam(self.q_net.parameters(), **self.hyperparameters.optimizer_params)\n",
        "        ####################################"
      ],
      "id": "bd35f21d"
    },
    {
      "cell_type": "markdown",
      "metadata": {
        "id": "7eea3aa2"
      },
      "source": [
        "Launch the training of the Resets DQN agent and observe difference in results:"
      ],
      "id": "7eea3aa2"
    },
    {
      "cell_type": "code",
      "execution_count": 16,
      "metadata": {
        "id": "66fe46c0",
        "colab": {
          "base_uri": "https://localhost:8080/"
        },
        "outputId": "ddf95280-c8db-4cc5-8b6f-99b1284cf748"
      },
      "outputs": [
        {
          "output_type": "stream",
          "name": "stdout",
          "text": [
            "Sample number: 3 Step: 39999 Evaluation reward: -38.07 Samples per second: 161"
          ]
        },
        {
          "output_type": "execute_result",
          "data": {
            "text/plain": [
              "-5.590243777189582"
            ]
          },
          "metadata": {},
          "execution_count": 16
        }
      ],
      "source": [
        "agent = Resets(hyperparameters)\n",
        "results_dqn4 = train_agent(hyperparameters, agent)\n",
        "results_dict[\"Resets\"] = results_dqn4\n",
        "results_dqn4.mean(1)[-10:].mean()"
      ],
      "id": "66fe46c0"
    },
    {
      "cell_type": "markdown",
      "metadata": {
        "id": "3bd7a09d"
      },
      "source": [
        "## 4. BBF\n",
        "\n",
        "In this section your task is to combine all the above ideas into a single DQN agent."
      ],
      "id": "3bd7a09d"
    },
    {
      "cell_type": "code",
      "execution_count": 17,
      "metadata": {
        "id": "ff5b1a1d"
      },
      "outputs": [],
      "source": [
        "class BBF(DQNBaseline):\n",
        "    def __init__(\n",
        "        self,\n",
        "        hyperparameters: Hyperparameters,\n",
        "    ) -> None:\n",
        "        super().__init__(hyperparameters)\n",
        "        self.nstep = self.hyperparameters.init_nstep\n",
        "        self.buffer = NStepExperienceBuffer(hyperparameters)\n",
        "        self.discount = self.hyperparameters.init_discount\n",
        "        self.reset_freq = hyperparameters.reset_freq\n",
        "        self.replay_ratio = hyperparameters.replay_ratio\n",
        "        self.num_updates = 0\n",
        "\n",
        "    def reset(self) -> None:\n",
        "        super().reset()\n",
        "        self.buffer = NStepExperienceBuffer(self.hyperparameters)\n",
        "        self.nstep = self.hyperparameters.init_nstep\n",
        "        self.discount = self.hyperparameters.init_discount\n",
        "        self.num_updates = 0\n",
        "\n",
        "\n",
        "\n",
        "    def set_nstep(self, value: int) -> None:\n",
        "        ############### TODO ###############\n",
        "        self.nstep = value\n",
        "        self.buffer = NStepExperienceBuffer(self.hyperparameters)\n",
        "        self.buffer.nstep = value\n",
        "        ####################################\n",
        "\n",
        "    def set_discount(self, value: int) -> None:\n",
        "        ############### TODO ###############\n",
        "        self.discount = value\n",
        "        ####################################\n",
        "\n",
        "    def anneal(\n",
        "        self,\n",
        "        step: int,\n",
        "    ) -> None:\n",
        "        super().anneal(step=step)\n",
        "        # N-step\n",
        "        value = max(\n",
        "            self.hyperparameters.final_nstep,\n",
        "            min(\n",
        "                self.hyperparameters.init_nstep\n",
        "                - (step - self.hyperparameters.init_steps)\n",
        "                // self.hyperparameters.anneal_nstep_freq,\n",
        "                self.hyperparameters.init_nstep,\n",
        "            ),\n",
        "        )\n",
        "        self.set_nstep(value=value)\n",
        "        # Discount\n",
        "        value = (\n",
        "            (\n",
        "                (\n",
        "                    self.hyperparameters.final_discount\n",
        "                    - self.hyperparameters.init_discount\n",
        "                )\n",
        "                / self.hyperparameters.anneal_steps\n",
        "            )\n",
        "            * step\n",
        "            + self.hyperparameters.init_discount\n",
        "            if step < self.hyperparameters.anneal_steps\n",
        "            else self.discount\n",
        "        )\n",
        "        self.set_discount(value=value)\n",
        "\n",
        "    def reset_params(self) -> None:\n",
        "        ############### TODO ###############\n",
        "        self.q_net = QNetwork(self.hyperparameters).to(self.hyperparameters.device)\n",
        "        self.q_target = QNetwork(self.hyperparameters).to(self.hyperparameters.device)\n",
        "        self.q_target.load_state_dict(self.q_net.state_dict())\n",
        "        self.optimizer = optim.Adam(self.q_net.parameters(), **self.hyperparameters.optimizer_params)\n",
        "        ####################################\n",
        "\n",
        "    def update(self) -> None:\n",
        "        states, actions, rewards, next_states, terminals = self.buffer.sample()\n",
        "        with torch.no_grad():\n",
        "            q_ns = torch.max(self.q_target(next_states), dim=1)[0].unsqueeze(1)\n",
        "        q_targets = rewards + (1 - terminals) * self.discount**self.nstep * q_ns\n",
        "        self.optimizer.zero_grad()\n",
        "        q_values = self.q_net(states).gather(1, actions)\n",
        "        loss = nn.functional.smooth_l1_loss(q_values, q_targets)\n",
        "        loss.backward()\n",
        "        self.optimizer.step()\n",
        "        self.num_updates += 1\n",
        "\n",
        "        ############### TODO ###############\n",
        "        if self.num_updates % self.reset_freq == 0:\n",
        "            self.reset_params()\n",
        "\n",
        "        ####################################"
      ],
      "id": "ff5b1a1d"
    },
    {
      "cell_type": "markdown",
      "metadata": {
        "id": "46b6cc41"
      },
      "source": [
        "Launch the training of the BBF DQN agent and observe difference in results:"
      ],
      "id": "46b6cc41"
    },
    {
      "cell_type": "code",
      "execution_count": 18,
      "metadata": {
        "id": "3d3d0955",
        "colab": {
          "base_uri": "https://localhost:8080/"
        },
        "outputId": "eb226c06-6216-44e0-fa86-a96ba2a06b0a"
      },
      "outputs": [
        {
          "output_type": "stream",
          "name": "stdout",
          "text": [
            "Sample number: 3 Step: 39999 Evaluation reward: -106.04 Samples per second: 286"
          ]
        },
        {
          "output_type": "execute_result",
          "data": {
            "text/plain": [
              "-127.0222059504312"
            ]
          },
          "metadata": {},
          "execution_count": 18
        }
      ],
      "source": [
        "agent = BBF(hyperparameters)\n",
        "results_dqn5 = train_agent(hyperparameters, agent)\n",
        "results_dict[\"BBF\"] = results_dqn5\n",
        "results_dqn5.mean(1)[-10:].mean()"
      ],
      "id": "3d3d0955"
    },
    {
      "cell_type": "markdown",
      "metadata": {
        "id": "42a78ec8"
      },
      "source": [
        "## 5. Aggregate evaluation data and compute IQM metric\n",
        "At the end we ask you to present collected data according to highest standards in the area. Presented solution were suggested in the paper [Deep Reinforcement Learning at the Edge of the\n",
        "Statistical Precipice]().\n",
        "\n",
        "To aggregate performance we will use interquartile mean (IQM) instead of average.\n",
        "\n",
        "First implement IQM as an average of middle 50% of combined runs results."
      ],
      "id": "42a78ec8"
    },
    {
      "cell_type": "code",
      "execution_count": 19,
      "metadata": {
        "id": "b88d1364"
      },
      "outputs": [],
      "source": [
        "def IQM(combined_runs: np.ndarray) -> float:\n",
        "    ############### TODO ###############\n",
        "    combined_runs = combined_runs.flatten()\n",
        "    start_index = int(combined_runs.size * 0.25)\n",
        "    end_index = int(combined_runs.size * 0.75)\n",
        "    return np.mean(np.sort(combined_runs)[start_index:end_index])\n",
        "    ####################################"
      ],
      "id": "b88d1364"
    },
    {
      "cell_type": "markdown",
      "metadata": {
        "id": "17c7e136"
      },
      "source": [
        "Second we ask you to compute boostrap confidence interval to express uncertainty in the average performance. Follow these steps for implementation:\n",
        "1. Repeat the following process `n_samples` times: generate a sample of the same size as your original data by randomly sampling from it with replacement.\n",
        "2. On each iteration, calculate specified statistic (in this case, IQM) based on the generated sample.\n",
        "3. After completing all iterations, you will have a collection of `n_samples` IQM values. To construct a confidence interval, identify two quantiles, denoted as p1 and p2. These quantiles should be equidistant from the median (50%) and the distance between them should correspond to the desired confidence level. For instance, if the confidence level is 90%, set p1=0.05 and p2=0.95.\n",
        "4. Finally, return the p1-quantile and p2-quantile of your IQM values as the lower and upper bounds of your bootstrap confidence interval.\n",
        "\n",
        "To obtain maximum points for this task you must not use python \"for\" loop."
      ],
      "id": "17c7e136"
    },
    {
      "cell_type": "code",
      "execution_count": 20,
      "metadata": {
        "id": "cd7f352d"
      },
      "outputs": [],
      "source": [
        "def bootstrap(\n",
        "    data: np.ndarray,\n",
        "    statistic: Callable,\n",
        "    n_resamples: int = 9999,\n",
        "    confidence_level: float = 0.95,\n",
        ") -> tuple[float, float]:\n",
        "    ############### TODO ###############\n",
        "    samples = np.random.choice(data.flatten(), size = (n_resamples, data.flatten().shape[0]), replace = True)\n",
        "    iqms = np.apply_along_axis(statistic, axis = -1, arr = samples)\n",
        "    p1 = (1 - confidence_level) / 2\n",
        "    p2 = 1 - p1\n",
        "    return np.quantile(iqms, p1), np.quantile(iqms, p2)\n",
        "    ####################################"
      ],
      "id": "cd7f352d"
    },
    {
      "cell_type": "markdown",
      "metadata": {
        "id": "e13829bf"
      },
      "source": [
        "Third implement aggregating function. For each method compute IQM nad confidence intervals using data from the last 10 evaluations, all eval runs and all seeds.\n",
        "Return DataFrame with the following columns: \"method_name\", \"IQM\", \"confidence_lower_bound\", \"confidence_upper_bound\"."
      ],
      "id": "e13829bf"
    },
    {
      "cell_type": "code",
      "execution_count": 21,
      "metadata": {
        "id": "3d691049"
      },
      "outputs": [],
      "source": [
        "def aggregate_data(results: dict[str, np.ndarray]) -> pd.DataFrame:\n",
        "    ############### TODO ###############\n",
        "    iqm = []\n",
        "    method_name = []\n",
        "    conf_low = []\n",
        "    conf_up = []\n",
        "    for method, evals in results.items():\n",
        "        method_name.append(method)\n",
        "        iqm.append(IQM(evals[-10:, :, :]))\n",
        "        cl, cu = bootstrap(evals[-10:, :, :], IQM)\n",
        "        conf_low.append(cl)\n",
        "        conf_up.append(cu)\n",
        "    res = pd.DataFrame()\n",
        "    res['method_name'] = method_name\n",
        "    res['IQM'] = iqm\n",
        "    res['confidence_lower_bound'] = conf_low\n",
        "    res['confidence_upper_bound'] = conf_up\n",
        "\n",
        "    return res\n",
        "\n",
        "    ####################################"
      ],
      "id": "3d691049"
    },
    {
      "cell_type": "markdown",
      "metadata": {
        "id": "5a39b8c3"
      },
      "source": [
        "## 6. Plot collected results\n",
        "\n",
        "Use the provided function and replace the example data with your results."
      ],
      "id": "5a39b8c3"
    },
    {
      "cell_type": "code",
      "execution_count": 22,
      "metadata": {
        "id": "27373aca"
      },
      "outputs": [],
      "source": [
        "example_data = pd.DataFrame(\n",
        "    {\n",
        "        \"method_name\": [\"baseline\", \"discount_annealing\", \"n_step_annealing\", \"resets\", \"combined\"],\n",
        "        \"IQM\": [-24, 20, 23, 30, 40],\n",
        "        \"confidence_lower_bound\": [-30, 14, 20, 25, 33],\n",
        "        \"confidence_upper_bound\": [-20, 22, 27, 38, 44],\n",
        "    }\n",
        ")"
      ],
      "id": "27373aca"
    },
    {
      "cell_type": "code",
      "execution_count": 23,
      "metadata": {
        "id": "d22cf465"
      },
      "outputs": [],
      "source": [
        "def plot_results(data: pd.DataFrame) -> tuple[matplotlib.figure.Figure, matplotlib.axes._axes.Axes]:\n",
        "    assert data.shape == (5, 4)\n",
        "    assert set(data.columns) == set(\n",
        "        [\n",
        "            \"method_name\",\n",
        "            \"IQM\",\n",
        "            \"confidence_lower_bound\",\n",
        "            \"confidence_upper_bound\",\n",
        "        ]\n",
        "    )\n",
        "    fig, ax = plt.subplots(figsize=(10, 6))\n",
        "\n",
        "    colors = [\"skyblue\", \"lightgreen\", \"lightcoral\", \"orange\", \"lightpink\"]\n",
        "\n",
        "    for i, method in enumerate(data[\"method_name\"]):\n",
        "        mean = data.at[i, \"IQM\"]\n",
        "        lower_bound = data.at[i, \"confidence_lower_bound\"]\n",
        "        upper_bound = data.at[i, \"confidence_upper_bound\"]\n",
        "\n",
        "        rect_width = upper_bound - lower_bound\n",
        "\n",
        "        ax.plot(\n",
        "            [mean, mean],\n",
        "            [i - 0.4, i + 0.4],\n",
        "            color=\"black\",\n",
        "            linewidth=2,\n",
        "            label=\"Mean\" if i == 0 else \"\",\n",
        "        )\n",
        "\n",
        "        rect = plt.Rectangle(\n",
        "            (lower_bound, i - 0.4),\n",
        "            rect_width,\n",
        "            0.8,\n",
        "            color=colors[i],\n",
        "            alpha=0.7,\n",
        "        )\n",
        "        ax.add_patch(rect)\n",
        "\n",
        "    ax.set_yticks(\n",
        "        range(len(data)),\n",
        "        data[\"method_name\"],\n",
        "    )\n",
        "    ax.set_title(\"Results of each method with empirical confidence intervals\")\n",
        "\n",
        "    ax.grid(\n",
        "        axis=\"y\",\n",
        "        linestyle=\"--\",\n",
        "        alpha=0.7,\n",
        "    )\n",
        "    ax.spines[\"left\"].set_visible(False)\n",
        "    ax.spines[\"top\"].set_visible(False)\n",
        "    ax.spines[\"right\"].set_visible(False)\n",
        "\n",
        "    return fig, ax"
      ],
      "id": "d22cf465"
    },
    {
      "cell_type": "code",
      "execution_count": 27,
      "metadata": {
        "id": "S9hu7jlrnw5f",
        "colab": {
          "base_uri": "https://localhost:8080/",
          "height": 545
        },
        "outputId": "1344bde5-969d-4248-eef3-e47cd47d521f"
      },
      "outputs": [
        {
          "output_type": "display_data",
          "data": {
            "text/plain": [
              "<Figure size 1000x600 with 1 Axes>"
            ],
            "image/png": "[encoded data removed]"
          },
          "metadata": {}
        }
      ],
      "source": [
        "fig, ax = plot_results(aggregate_data(results_dict))\n",
        "fig.show()"
      ],
      "id": "S9hu7jlrnw5f"
    },
    {
      "cell_type": "code",
      "source": [
        "results_dict.keys()"
      ],
      "metadata": {
        "colab": {
          "base_uri": "https://localhost:8080/"
        },
        "id": "jwB9KPgBrYXy",
        "outputId": "00e3ed8f-96a3-4063-8ec2-277ffe538224"
      },
      "id": "jwB9KPgBrYXy",
      "execution_count": 25,
      "outputs": [
        {
          "output_type": "execute_result",
          "data": {
            "text/plain": [
              "dict_keys(['DQNBaseline', 'NStepAnnealing', 'DiscountAnnealing', 'Resets', 'BBF'])"
            ]
          },
          "metadata": {},
          "execution_count": 25
        }
      ]
    },
    {
      "cell_type": "code",
      "source": [],
      "metadata": {
        "id": "7MZEjfMLAyQe"
      },
      "id": "7MZEjfMLAyQe",
      "execution_count": 25,
      "outputs": []
    }
  ],
  "metadata": {
    "accelerator": "GPU",
    "colab": {
      "provenance": []
    },
    "kernelspec": {
      "display_name": "Python 3",
      "name": "python3"
    },
    "language_info": {
      "codemirror_mode": {
        "name": "ipython",
        "version": 3
      },
      "file_extension": ".py",
      "mimetype": "text/x-python",
      "name": "python",
      "nbconvert_exporter": "python",
      "pygments_lexer": "ipython3",
      "version": "3.10.11"
    },
    "vscode": {
      "interpreter": {
        "hash": "6809863f01cf54cb8cf26991fcf8425a337722d7d35212492765d6bf47d2da35"
      }
    }
  },
  "nbformat": 4,
  "nbformat_minor": 5
}